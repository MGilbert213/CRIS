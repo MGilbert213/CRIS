{
 "cells": [
  {
   "cell_type": "markdown",
   "metadata": {},
   "source": [
    "# Analyze observed climatology from NCLIMGRID and LIVNEH\n",
    "\n",
    "This notebook contains example calculations to help you on your way to develop your custom analysis. \\\n",
    "First, set your parameters and retrieve (a subset of) the pre-calculated zonal statistics from the feature service. \\\n",
    "Then, calculate the mean and change over time for your retrieved dataset. \\\n",
    "Last, develop your own analysis."
   ]
  },
  {
   "cell_type": "markdown",
   "metadata": {},
   "source": [
    "# Import libraries"
   ]
  },
  {
   "cell_type": "code",
   "execution_count": 3,
   "metadata": {},
   "outputs": [],
   "source": [
    "import numpy as np\n",
    "import pandas as pd\n",
    "import geopandas as gpd\n",
    "import requests"
   ]
  },
  {
   "cell_type": "markdown",
   "metadata": {},
   "source": [
    "# Set feature service variables"
   ]
  },
  {
   "cell_type": "code",
   "execution_count": 4,
   "metadata": {},
   "outputs": [],
   "source": [
    "feat_srvc = 'https://services3.arcgis.com/0Fs3HcaFfvzXvm7w/ArcGIS/rest/services/CRIS_Zonal_Statistics_by_County/FeatureServer/3'\n",
    "query = '/query'\n",
    "\n",
    "# Use Geographic Identifiers (Field Name: GEOID) to pick which counties to calculate zonal statistics over.\n",
    "uniqueID = 'GEOID'"
   ]
  },
  {
   "cell_type": "markdown",
   "metadata": {},
   "source": [
    "# Pick counties and years to return"
   ]
  },
  {
   "cell_type": "code",
   "execution_count": 5,
   "metadata": {},
   "outputs": [],
   "source": [
    "# Put each county's GEOID between apostrophes and separate by commas, e.g. ids = '20201', '20117'\n",
    "# Set ids to 'all' if using all counties in the feature layer\n",
    "ids = '20201', '20203', '20117'"
   ]
  },
  {
   "cell_type": "code",
   "execution_count": 6,
   "metadata": {},
   "outputs": [],
   "source": [
    "# Pick start and end year of the period you want to process.\n",
    "# If you only want to process 1 year, put your desired year for both the start and end.\n",
    "year_start = 1981\n",
    "year_end = 2020"
   ]
  },
  {
   "cell_type": "code",
   "execution_count": 7,
   "metadata": {},
   "outputs": [],
   "source": [
    "# Define the where clause for counties and years to return\n",
    "\n",
    "if ids == 'all':\n",
    "    \n",
    "    where_clause_id = f\"YEAR >= {year_start} AND YEAR <= {year_end}\"\n",
    "\n",
    "else:\n",
    "    \n",
    "    if np.size(ids) == 1:\n",
    "\n",
    "        where_clause_id = f\"{uniqueID} = '{ids}' AND YEAR >= {year_start} AND YEAR <= {year_end}\"\n",
    "\n",
    "    else:\n",
    "\n",
    "        where_clause_id = f\"{uniqueID} IN {ids} AND YEAR >= {year_start} AND YEAR <= {year_end}\""
   ]
  },
  {
   "cell_type": "markdown",
   "metadata": {},
   "source": [
    "# Pick variables to return"
   ]
  },
  {
   "cell_type": "markdown",
   "metadata": {},
   "source": [
    "### Pick one of the three options below, run the appropriate cells, then move to \"Retrieve data\""
   ]
  },
  {
   "cell_type": "markdown",
   "metadata": {},
   "source": [
    "##### Option 1: return all variables"
   ]
  },
  {
   "cell_type": "code",
   "execution_count": 14,
   "metadata": {},
   "outputs": [],
   "source": [
    "# Run this cell if you want all variables returned\n",
    "variables = '*'"
   ]
  },
  {
   "cell_type": "markdown",
   "metadata": {},
   "source": [
    "##### Option 2: return manually selected subset of variables"
   ]
  },
  {
   "cell_type": "code",
   "execution_count": null,
   "metadata": {},
   "outputs": [],
   "source": [
    "# Show available variables\n",
    "response_temp = requests.get(feat_srvc + '?f=pjson')\n",
    "data = response_temp.json()\n",
    "fields = data['fields']\n",
    "for field in fields:\n",
    "    print('Variable:', field['name'], '\\nDescription:', field['alias'], '\\n')\n",
    "    print()"
   ]
  },
  {
   "cell_type": "code",
   "execution_count": null,
   "metadata": {},
   "outputs": [],
   "source": [
    "# If you want 1 or more variables from the above list, select them here\n",
    "# Put each variable between apostrophes and separate by commas, e.g. variables = 'TMAX_NCLIMGRID_MEAN'\n",
    "variables = 'TMAX_NCLIMGRID_MEAN'"
   ]
  },
  {
   "cell_type": "markdown",
   "metadata": {},
   "source": [
    "##### Option 3: select all NCLIMGRID or all LIVNEH variables"
   ]
  },
  {
   "cell_type": "code",
   "execution_count": 29,
   "metadata": {},
   "outputs": [],
   "source": [
    "# Run the line below for all NCLIMGRID variables\n",
    "variables = [field['name'] for field in fields if \"NCLIMGRID\" in field['name']]\n",
    "\n",
    "# Run the line below for all NCLIMGRID variables\n",
    "# variables = [field['name'] for field in fields if \"LIVNEH\" in field['name']]"
   ]
  },
  {
   "cell_type": "markdown",
   "metadata": {},
   "source": [
    "# Retrieve data"
   ]
  },
  {
   "cell_type": "code",
   "execution_count": 46,
   "metadata": {},
   "outputs": [],
   "source": [
    "# Add counties ('GEOID') and 'YEAR' to the variables-to-return list\n",
    "return_variables = ['GEOID', 'YEAR']\n",
    "\n",
    "if np.size(variables) == 1:\n",
    "\n",
    "    return_variables.append(variables)\n",
    "\n",
    "else:\n",
    "\n",
    "    for var in variables:\n",
    "\n",
    "        return_variables.append(var)"
   ]
  },
  {
   "cell_type": "code",
   "execution_count": null,
   "metadata": {},
   "outputs": [],
   "source": [
    "# Maximum number of variables that can be processed in each request: 50\n",
    "# Maximum number of rows that can be processed in each request: 1000\n",
    "# This code loops through variables and rows and appends each subset (1000x50) to a final GeoDataFrame (gdf)\n",
    "\n",
    "# Number of variables that are requested to be processed\n",
    "vars_to_process = len(return_variables)\n",
    "\n",
    "# Number of variables to process in each loop\n",
    "loop_size = 50\n",
    "\n",
    "# Set initial value for loop number (v)\n",
    "v = 0\n",
    "\n",
    "# Loop through variables, 50 at one time\n",
    "# While there are variables left to process, keep looping through this code\n",
    "while vars_to_process > 0:\n",
    "\n",
    "    # Sequentially subset the variables to process with 50 variables in each loop\n",
    "    return_variables_condition = return_variables[max((loop_size*v - 1) + 1, 0): min(loop_size*(v+1), len(return_variables))]\n",
    "\n",
    "    # Update number of variables to process, i.e. subtract 50 (loop_size)\n",
    "    vars_to_process -= loop_size\n",
    "    \n",
    "    # Update loop number (v)\n",
    "    v += 1\n",
    "\n",
    "    # Set parameters for requests.get()\n",
    "    params = {\n",
    "        'where': where_clause_id,\n",
    "        'outFields': return_variables_condition,\n",
    "        'orderByFields': ['YEAR', 'GEOID'],\n",
    "        'f': 'pgeojson',\n",
    "    }\n",
    "\n",
    "    # Request response from feature service\n",
    "    response = requests.get(feat_srvc + query, params=params)\n",
    "\n",
    "\n",
    "    # Put the first 50 variables in gdf to establish the GeoDataFrame\n",
    "    if v == 1:\n",
    "        \n",
    "        # Translate the reponse.text into a temporary GeoDataFrame\n",
    "        gdf_var1_temp = gpd.read_file(response.text)\n",
    "\n",
    "        # Drop geometry field\n",
    "        gdf_var1_temp.drop(columns=['geometry'], inplace=True)\n",
    "\n",
    "        # Establish the final GeoDataFrame (gdf) and put the first subset of rows and variables (temporary GeoDataFrame) in it\n",
    "        gdf = gdf_var1_temp\n",
    "\n",
    "\n",
    "        # Set initial value for loop number (i)\n",
    "        i = 0\n",
    "\n",
    "        # Loop through rows, 1000 at one time\n",
    "        while len(gdf_var1_temp) == 1000:\n",
    "            \n",
    "            # Update loop number (i)\n",
    "            i = i + 1\n",
    "\n",
    "            # Set the offset for in params. This says how many rows to skip from the start.\n",
    "            offset = 1000 * i\n",
    "\n",
    "            # Set parameters for requests.get()\n",
    "            params = {\n",
    "                'where': where_clause_id,\n",
    "                'outFields': return_variables_condition,\n",
    "                'orderByFields': ['YEAR', 'GEOID'],\n",
    "                'f': 'pgeojson',\n",
    "                'resultOffset': f'{offset}'\n",
    "            }\n",
    "\n",
    "            # Request response from feature service\n",
    "            response = requests.get(feat_srvc + query, params=params)\n",
    "\n",
    "            # Translate the reponse.text into a temporary GeoDataFrame\n",
    "            gdf_var1_temp = gpd.read_file(response.text)\n",
    "\n",
    "            # Concatenate the new subset to the final GeoDataFrame (gdf)\n",
    "            gdf = pd.concat([gdf, gdf_var1_temp], ignore_index=True);\n",
    "\n",
    "            # Drop geometry field\n",
    "            gdf.drop(columns=['geometry'], inplace=True)\n",
    "\n",
    "\n",
    "    # Put all the additional variables, beyond the first 50, in a temporary GeoDataFrame and concatenate with the final GeoDataFrame (gdf)\n",
    "    elif v > 1:\n",
    "    \n",
    "        # Translate the reponse.text into a temporary GeoDataFrame\n",
    "        gdf_var2_temp = gpd.read_file(response.text)\n",
    "        \n",
    "        # Drop geometry field\n",
    "        gdf_var2_temp.drop(columns=['geometry'], inplace=True)\n",
    "\n",
    "        # Establish the a temporart GeoDataFrame (gdf_var2) and put the first subset of rows and variables (temporary GeoDataFrame) in it     \n",
    "        gdf_var2 = gdf_var2_temp\n",
    "\n",
    "\n",
    "        # Set initial value for loop number (j)\n",
    "        j = 0\n",
    "\n",
    "        # Loop through rows, 1000 at one time\n",
    "        while len(gdf_var2_temp) == 1000:\n",
    "\n",
    "            # Update loop number (j)\n",
    "            j = j + 1\n",
    "\n",
    "            # Set the offset for in params. This says how many rows to skip from the start.\n",
    "            offset = 1000 * j\n",
    "\n",
    "            # Set parameters for requests.get()\n",
    "            params = {\n",
    "                'where': where_clause_id,\n",
    "                'outFields': return_variables_condition,\n",
    "                'orderByFields': ['YEAR', 'GEOID'],\n",
    "                'f': 'pgeojson',\n",
    "                'resultOffset': f'{offset}'\n",
    "            }\n",
    "\n",
    "            # Request response from feature service\n",
    "            response = requests.get(feat_srvc + query, params=params)\n",
    "\n",
    "            # Translate the reponse.text into a temporary GeoDataFrame\n",
    "            gdf_var2_temp = gpd.read_file(response.text)\n",
    "\n",
    "            # Concatenate the new subset to the temporary GeoDataFrame (gdf_var2)\n",
    "            gdf_var2 = pd.concat([gdf_var2, gdf_var2_temp], ignore_index=True)\n",
    "\n",
    "            # Drop geometry field\n",
    "            gdf_var2.drop(columns=['geometry'], inplace=True)\n",
    "\n",
    "        # Concatenate temporary GeoDataFrame (gdf_var2) to the final GeoDataFrame (gdf)\n",
    "        gdf = pd.concat([gdf, gdf_var2], axis=1)\n",
    "\n",
    "# Sort GeoDataFrame by GEOID and YEAR\n",
    "gdf.sort_values(by=['GEOID', 'YEAR'], inplace=True)\n",
    "\n",
    "gdf"
   ]
  },
  {
   "cell_type": "markdown",
   "metadata": {},
   "source": [
    "# Analysis examples"
   ]
  },
  {
   "cell_type": "markdown",
   "metadata": {},
   "source": [
    "### Calculation 1: mean over time period"
   ]
  },
  {
   "cell_type": "code",
   "execution_count": 26,
   "metadata": {},
   "outputs": [],
   "source": [
    "# If desired, run this cell to take a subset of the time period over which to calculate the mean\n",
    "year_start_subset = 1990\n",
    "year_end_subset = 1995\n",
    "\n",
    "gdf1 = gdf[(gdf['YEAR'] >= year_start_subset) & (gdf['YEAR'] < year_end_subset+1)]"
   ]
  },
  {
   "cell_type": "markdown",
   "metadata": {},
   "source": [
    "##### Run this cell to return the mean of each variable in the GeoDataFrame"
   ]
  },
  {
   "cell_type": "code",
   "execution_count": 27,
   "metadata": {},
   "outputs": [
    {
     "data": {
      "text/html": [
       "<div>\n",
       "<style scoped>\n",
       "    .dataframe tbody tr th:only-of-type {\n",
       "        vertical-align: middle;\n",
       "    }\n",
       "\n",
       "    .dataframe tbody tr th {\n",
       "        vertical-align: top;\n",
       "    }\n",
       "\n",
       "    .dataframe thead th {\n",
       "        text-align: right;\n",
       "    }\n",
       "</style>\n",
       "<table border=\"1\" class=\"dataframe\">\n",
       "  <thead>\n",
       "    <tr style=\"text-align: right;\">\n",
       "      <th></th>\n",
       "      <th>GEOID</th>\n",
       "      <th>TMAX_NCLIMGRID_MIN (mean)</th>\n",
       "      <th>TMAX_NCLIMGRID_MAX (mean)</th>\n",
       "      <th>TMAX_NCLIMGRID_MEAN (mean)</th>\n",
       "    </tr>\n",
       "  </thead>\n",
       "  <tbody>\n",
       "    <tr>\n",
       "      <th>0</th>\n",
       "      <td>20117</td>\n",
       "      <td>62.525172</td>\n",
       "      <td>64.834242</td>\n",
       "      <td>63.742053</td>\n",
       "    </tr>\n",
       "    <tr>\n",
       "      <th>1</th>\n",
       "      <td>20201</td>\n",
       "      <td>63.295928</td>\n",
       "      <td>64.979055</td>\n",
       "      <td>64.146538</td>\n",
       "    </tr>\n",
       "    <tr>\n",
       "      <th>2</th>\n",
       "      <td>20203</td>\n",
       "      <td>65.892865</td>\n",
       "      <td>66.977767</td>\n",
       "      <td>66.478455</td>\n",
       "    </tr>\n",
       "  </tbody>\n",
       "</table>\n",
       "</div>"
      ],
      "text/plain": [
       "   GEOID  TMAX_NCLIMGRID_MIN (mean)  TMAX_NCLIMGRID_MAX (mean)  \\\n",
       "0  20117                  62.525172                  64.834242   \n",
       "1  20201                  63.295928                  64.979055   \n",
       "2  20203                  65.892865                  66.977767   \n",
       "\n",
       "   TMAX_NCLIMGRID_MEAN (mean)  \n",
       "0                   63.742053  \n",
       "1                   64.146538  \n",
       "2                   66.478455  "
      ]
     },
     "execution_count": 27,
     "metadata": {},
     "output_type": "execute_result"
    }
   ],
   "source": [
    "# Group by county (GEOID) and calculate mean of period 'year_start_subset - year_end_subset'\n",
    "variables_mean = gdf1.groupby('GEOID').mean()\n",
    "\n",
    "# Drop YEAR column\n",
    "variables_mean.drop(columns='YEAR', inplace=True)\n",
    "\n",
    "# If returning all variables, remove OBJECTID and BATCH_ID columns\n",
    "if variables == '*':\n",
    "    variables_mean.drop(columns=['OBJECTID', 'BATCH_ID'], inplace=True)\n",
    "\n",
    "# Add index numbers to rows\n",
    "variables_mean.reset_index(inplace=True)\n",
    "\n",
    "# Rename column names to reflect that they represent the mean of each variable over time\n",
    "variables_mean.rename(columns={gdf1.columns[i]: f\"{gdf1.columns[i]} (mean)\" for i in range(2, len(gdf1.columns))}, inplace=True)\n",
    "\n",
    "# Show means of variables\n",
    "variables_mean"
   ]
  },
  {
   "cell_type": "markdown",
   "metadata": {},
   "source": [
    "### Calculation 2: change over time"
   ]
  },
  {
   "cell_type": "code",
   "execution_count": 28,
   "metadata": {},
   "outputs": [],
   "source": [
    "# Set years over which to calculate the change\n",
    "year_start_change = 1985\n",
    "year_end_change = 1995\n",
    "\n",
    "# Create two new GeoDataFrames which contain only the the start and end years, respectively\n",
    "gdf_start_change = gdf[(gdf['YEAR'] == year_start_change)]\n",
    "gdf_end_change = gdf[(gdf['YEAR'] == year_end_change)]"
   ]
  },
  {
   "cell_type": "code",
   "execution_count": null,
   "metadata": {},
   "outputs": [],
   "source": [
    "# Set the indices of both GeoDataFrames to the counties (GEOIDs)\n",
    "gdf_start_change.set_index('GEOID', inplace=True);\n",
    "gdf_end_change.set_index('GEOID', inplace=True);\n",
    "\n",
    "# Drop YEAR, MODEL_SET, and MODEL columns\n",
    "gdf_start_change.drop(columns=['YEAR'], inplace=True)\n",
    "gdf_end_change.drop(columns=['YEAR'], inplace=True)\n",
    "\n",
    "# If returning all variables, remove OBJECTID and BATCH_ID columns\n",
    "if variables == '*':\n",
    "    gdf_start_change.drop(columns=['OBJECTID', 'BATCH_ID'], inplace=True)\n",
    "    gdf_end_change.drop(columns=['OBJECTID', 'BATCH_ID'], inplace=True)"
   ]
  },
  {
   "cell_type": "code",
   "execution_count": 32,
   "metadata": {},
   "outputs": [
    {
     "data": {
      "text/html": [
       "<div>\n",
       "<style scoped>\n",
       "    .dataframe tbody tr th:only-of-type {\n",
       "        vertical-align: middle;\n",
       "    }\n",
       "\n",
       "    .dataframe tbody tr th {\n",
       "        vertical-align: top;\n",
       "    }\n",
       "\n",
       "    .dataframe thead th {\n",
       "        text-align: right;\n",
       "    }\n",
       "</style>\n",
       "<table border=\"1\" class=\"dataframe\">\n",
       "  <thead>\n",
       "    <tr style=\"text-align: right;\">\n",
       "      <th></th>\n",
       "      <th>GEOID</th>\n",
       "      <th>TMAX_NCLIMGRID_MIN (difference)</th>\n",
       "      <th>TMAX_NCLIMGRID_MAX (difference)</th>\n",
       "      <th>TMAX_NCLIMGRID_MEAN (difference)</th>\n",
       "    </tr>\n",
       "  </thead>\n",
       "  <tbody>\n",
       "    <tr>\n",
       "      <th>0</th>\n",
       "      <td>20117</td>\n",
       "      <td>1.54364</td>\n",
       "      <td>1.57245</td>\n",
       "      <td>1.71683</td>\n",
       "    </tr>\n",
       "    <tr>\n",
       "      <th>1</th>\n",
       "      <td>20201</td>\n",
       "      <td>2.77005</td>\n",
       "      <td>1.92838</td>\n",
       "      <td>2.27677</td>\n",
       "    </tr>\n",
       "    <tr>\n",
       "      <th>2</th>\n",
       "      <td>20203</td>\n",
       "      <td>2.22816</td>\n",
       "      <td>2.26542</td>\n",
       "      <td>2.24628</td>\n",
       "    </tr>\n",
       "  </tbody>\n",
       "</table>\n",
       "</div>"
      ],
      "text/plain": [
       "   GEOID  TMAX_NCLIMGRID_MIN (difference)  TMAX_NCLIMGRID_MAX (difference)  \\\n",
       "0  20117                          1.54364                          1.57245   \n",
       "1  20201                          2.77005                          1.92838   \n",
       "2  20203                          2.22816                          2.26542   \n",
       "\n",
       "   TMAX_NCLIMGRID_MEAN (difference)  \n",
       "0                           1.71683  \n",
       "1                           2.27677  \n",
       "2                           2.24628  "
      ]
     },
     "execution_count": 32,
     "metadata": {},
     "output_type": "execute_result"
    }
   ],
   "source": [
    "# Calculate absolute difference between start and end years\n",
    "variables_difference_absolute = gdf_end_change - gdf_start_change\n",
    "\n",
    "# Add index numbers to rows\n",
    "variables_difference_absolute.reset_index(inplace=True)\n",
    "\n",
    "# Rename columns to reflect that they represent the mean of each variable over time\n",
    "variables_difference_absolute.rename(columns={gdf.columns[i]: f\"{gdf.columns[i]} (difference)\" for i in range(2, len(gdf.columns))}, inplace=True)\n",
    "\n",
    "# Show absolute difference of each county and each variable between the start and end years\n",
    "variables_difference_absolute"
   ]
  },
  {
   "cell_type": "code",
   "execution_count": 33,
   "metadata": {},
   "outputs": [
    {
     "data": {
      "text/html": [
       "<div>\n",
       "<style scoped>\n",
       "    .dataframe tbody tr th:only-of-type {\n",
       "        vertical-align: middle;\n",
       "    }\n",
       "\n",
       "    .dataframe tbody tr th {\n",
       "        vertical-align: top;\n",
       "    }\n",
       "\n",
       "    .dataframe thead th {\n",
       "        text-align: right;\n",
       "    }\n",
       "</style>\n",
       "<table border=\"1\" class=\"dataframe\">\n",
       "  <thead>\n",
       "    <tr style=\"text-align: right;\">\n",
       "      <th></th>\n",
       "      <th>GEOID</th>\n",
       "      <th>TMAX_NCLIMGRID_MIN (% difference)</th>\n",
       "      <th>TMAX_NCLIMGRID_MAX (% difference)</th>\n",
       "      <th>TMAX_NCLIMGRID_MEAN (% difference)</th>\n",
       "    </tr>\n",
       "  </thead>\n",
       "  <tbody>\n",
       "    <tr>\n",
       "      <th>0</th>\n",
       "      <td>20117</td>\n",
       "      <td>2.561817</td>\n",
       "      <td>2.515316</td>\n",
       "      <td>2.797385</td>\n",
       "    </tr>\n",
       "    <tr>\n",
       "      <th>1</th>\n",
       "      <td>20201</td>\n",
       "      <td>4.602177</td>\n",
       "      <td>3.092390</td>\n",
       "      <td>3.712668</td>\n",
       "    </tr>\n",
       "    <tr>\n",
       "      <th>2</th>\n",
       "      <td>20203</td>\n",
       "      <td>3.484224</td>\n",
       "      <td>3.482593</td>\n",
       "      <td>3.481557</td>\n",
       "    </tr>\n",
       "  </tbody>\n",
       "</table>\n",
       "</div>"
      ],
      "text/plain": [
       "   GEOID  TMAX_NCLIMGRID_MIN (% difference)  \\\n",
       "0  20117                           2.561817   \n",
       "1  20201                           4.602177   \n",
       "2  20203                           3.484224   \n",
       "\n",
       "   TMAX_NCLIMGRID_MAX (% difference)  TMAX_NCLIMGRID_MEAN (% difference)  \n",
       "0                           2.515316                            2.797385  \n",
       "1                           3.092390                            3.712668  \n",
       "2                           3.482593                            3.481557  "
      ]
     },
     "execution_count": 33,
     "metadata": {},
     "output_type": "execute_result"
    }
   ],
   "source": [
    "# Calculate percentage difference between start and end years\n",
    "variables_difference_percentage = ((gdf_end_change - gdf_start_change) / gdf_start_change) * 100\n",
    "\n",
    "# Rename columns to reflect that they represent the percentage difference between the start and end years\n",
    "variables_difference_percentage.rename(columns={gdf.columns[i]: f\"{gdf.columns[i]} (% difference)\" for i in range(2, len(gdf.columns))}, inplace=True)\n",
    "\n",
    "# Add index numbers to rows\n",
    "variables_difference_percentage.reset_index(inplace=True)\n",
    "\n",
    "# Show percentage difference of each county and each variable between the start and end years\n",
    "variables_difference_percentage"
   ]
  }
 ],
 "metadata": {
  "kernelspec": {
   "display_name": "arcgispro-py3-raf",
   "language": "python",
   "name": "python3"
  },
  "language_info": {
   "codemirror_mode": {
    "name": "ipython",
    "version": 3
   },
   "file_extension": ".py",
   "mimetype": "text/x-python",
   "name": "python",
   "nbconvert_exporter": "python",
   "pygments_lexer": "ipython3",
   "version": "3.11.11"
  }
 },
 "nbformat": 4,
 "nbformat_minor": 2
}
