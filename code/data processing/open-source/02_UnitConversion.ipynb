{
 "cells": [
  {
   "cell_type": "markdown",
   "metadata": {},
   "source": [
    "# Import libraries"
   ]
  },
  {
   "cell_type": "code",
   "execution_count": 1,
   "metadata": {},
   "outputs": [],
   "source": [
    "import time\n",
    "import os\n",
    "import logging\n",
    "import shutil\n",
    "import xarray as xr\n",
    "from xclim.core import units"
   ]
  },
  {
   "cell_type": "markdown",
   "metadata": {},
   "source": [
    "# Define functions"
   ]
  },
  {
   "cell_type": "code",
   "execution_count": 2,
   "metadata": {},
   "outputs": [],
   "source": [
    "def create_dir(dir):\n",
    "    \"\"\"\n",
    "    Checks if directory exists and if not it will create it\n",
    "    \n",
    "    dir: str\n",
    "        full path the directory\n",
    "    \"\"\"\n",
    "    if not os.path.exists(dir):\n",
    "            os.mkdir(dir)"
   ]
  },
  {
   "cell_type": "code",
   "execution_count": null,
   "metadata": {},
   "outputs": [],
   "source": [
    "def list_dir_return_list_by_selection(workspace, ssp, model):\n",
    "    \"\"\"\n",
    "    Lists all files in a workspace and return the full path\n",
    "\n",
    "    workspace: str\n",
    "        full path the directory\n",
    "    selection: str\n",
    "        string used as a filter \n",
    "    \"\"\"\n",
    "    files = []\n",
    "    for file in os.listdir(workspace):\n",
    "        if ssp in file and model in file:\n",
    "            files.append(os.path.join(workspace,file))\n",
    "    return(files)"
   ]
  },
  {
   "cell_type": "code",
   "execution_count": 4,
   "metadata": {},
   "outputs": [],
   "source": [
    "def unit_conversion_temp_star(in_path, variable, f_name, out_path):\n",
    "\n",
    "    ds = xr.open_dataset(in_path + '\\\\' + f_name + '.nc')\n",
    "\n",
    "    ds[variable].attrs['units'] = 'degC'\n",
    "\n",
    "    ds[variable] = units.convert_units_to(ds[variable], 'degF')\n",
    "\n",
    "    ds.to_netcdf(out_path + '\\\\' + f_name + '.nc', encoding={variable.replace('-', '_'): {'zlib': True, 'complevel': 9}})"
   ]
  },
  {
   "cell_type": "code",
   "execution_count": 5,
   "metadata": {},
   "outputs": [],
   "source": [
    "def unit_conversion_temp_loca2(in_path, variable, f_name, out_path):\n",
    "\n",
    "    ds = xr.open_dataset(in_path + '\\\\' + f_name + '.nc')\n",
    "\n",
    "    ds[variable].attrs['units'] = 'degK'\n",
    "\n",
    "    ds[variable] = units.convert_units_to(ds[variable], 'degF')\n",
    "\n",
    "    ds.to_netcdf(out_path + '\\\\' + f_name + '.nc', encoding={variable.replace('-', '_'): {'zlib': True, 'complevel': 9}})"
   ]
  },
  {
   "cell_type": "code",
   "execution_count": 6,
   "metadata": {},
   "outputs": [],
   "source": [
    "def unit_conversion_precip(in_path, variable, f_name, out_path):\n",
    "\n",
    "    ds = xr.open_dataset(in_path + '\\\\' + f_name + '.nc')\n",
    "\n",
    "    ds[variable].attrs['units'] = 'mm'\n",
    "\n",
    "    ds[variable] = units.convert_units_to(ds[variable], 'in')\n",
    "\n",
    "    ds.to_netcdf(out_path + '\\\\' + f_name + '.nc', encoding={variable.replace('-', '_'): {'zlib': True, 'complevel': 9}})"
   ]
  },
  {
   "cell_type": "markdown",
   "metadata": {},
   "source": [
    "# Prepare Logger and Open Log File"
   ]
  },
  {
   "cell_type": "code",
   "execution_count": null,
   "metadata": {},
   "outputs": [],
   "source": [
    "# Path to your base directory\n",
    "base = r'C:\\<your-base-path>\\CRIS'"
   ]
  },
  {
   "cell_type": "code",
   "execution_count": null,
   "metadata": {},
   "outputs": [],
   "source": [
    "file_time = time.strftime(\"%Y%m%d-%H%M%S\")\n",
    "\n",
    "log_file_name = \"Output_Log_\" + file_time + \".log\"\n",
    "\n",
    "LOG_FILE_PATH = os.path.join(base, 'logs')\n",
    "LOG_FILE = os.path.join(LOG_FILE_PATH, log_file_name)\n",
    "\n",
    "logging.basicConfig(level = logging.INFO,\n",
    "                    format=\"%(asctime)s:%(levelname)s: %(message)s\",\n",
    "                    handlers=[\n",
    "                       logging.FileHandler(filename=LOG_FILE),\n",
    "                       logging.StreamHandler()\n",
    "                   ])\n",
    "logging.getLogger()"
   ]
  },
  {
   "cell_type": "markdown",
   "metadata": {},
   "source": [
    "# Set paths and variables"
   ]
  },
  {
   "cell_type": "code",
   "execution_count": 9,
   "metadata": {},
   "outputs": [],
   "source": [
    "input_dir = os.path.join(base, 'data', 'merge')\n",
    "output_dir = os.path.join(base, 'data', 'unitconvert')\n",
    "\n",
    "create_dir(output_dir)"
   ]
  },
  {
   "cell_type": "code",
   "execution_count": 10,
   "metadata": {},
   "outputs": [],
   "source": [
    "variables_day = ['pr-days-above-nonzero-90th',\n",
    "                 'pr-days-above-nonzero-95th',\n",
    "                 'pr-days-above-nonzero-99th',\n",
    "                 'pr-days-ge-1in',\n",
    "                 'pr-days-ge-2in',\n",
    "                 'pr-days-ge-3in',\n",
    "                 'pr-days-ge-4in',\n",
    "                 'tmax-days-ge-85F',\n",
    "                 'tmax-days-ge-86F',\n",
    "                 'tmax-days-ge-90F',\n",
    "                 'tmax-days-ge-95F',\n",
    "                 'tmax-days-ge-100F',\n",
    "                 'tmax-days-ge-105F',\n",
    "                 'tmax-days-ge-110F',\n",
    "                 'tmax-days-ge-115F',\n",
    "                 'tmax-days-le-32F',\n",
    "                 'tmin-days-ge-60F',\n",
    "                 'tmin-days-ge-70F',\n",
    "                 'tmin-days-ge-75F',\n",
    "                 'tmin-days-ge-80F',\n",
    "                 'tmin-days-ge-85F',\n",
    "                 'tmin-days-ge-90F',\n",
    "                 'tmin-days-le-0F',\n",
    "                 'tmin-days-le-28F',\n",
    "                 'tmin-days-le-32F'\n",
    "                 ]\n",
    "\n",
    "variables_degreedays = ['cdd',\n",
    "                        'hdd']\n",
    "\n",
    "variables_temp = ['tavg',\n",
    "                  'tmax',\n",
    "                  'tmax1day',\n",
    "                  'tmean-jja',\n",
    "                  'tmin',\n",
    "                  'tmin1day',\n",
    "                  'tmin-jja'\n",
    "                 ]\n",
    "\n",
    "variables_precip = ['pr-above-nonzero-90th',\n",
    "                    'pr-above-nonzero-95th',\n",
    "                    'pr-above-nonzero-99th',\n",
    "                    'pr-annual',\n",
    "                    'prmax1day',\n",
    "                    'prmax5day',\n",
    "                    'prmax10day',\n",
    "                    'prmax20day',\n",
    "                    'prmax30day',\n",
    "                    'prmaz-seasonal',\n",
    "                    'pr-monthly'\n",
    "                    ]\n"
   ]
  },
  {
   "cell_type": "code",
   "execution_count": 11,
   "metadata": {},
   "outputs": [],
   "source": [
    "# Pick STAR or LOCA2\n",
    "model_set = 'LOCA2'\n",
    "\n",
    "# pick model\n",
    "model = 'ACCESS-CM2'\n",
    "\n",
    "# if variable has unit day, copy from input_dir to output_dir\n",
    "variable = 'tavg'\n",
    "\n",
    "ssp_list = ['_ssp245','_ssp370','_ssp585']"
   ]
  },
  {
   "cell_type": "markdown",
   "metadata": {},
   "source": [
    "# Convert units"
   ]
  },
  {
   "cell_type": "code",
   "execution_count": null,
   "metadata": {},
   "outputs": [],
   "source": [
    "start_proc_tm = time.time() \n",
    "\n",
    "# Define a local directory\n",
    "netcdf_dir_list = os.path.join(input_dir, model_set, variable)\n",
    "\n",
    "# Define the full directory path\n",
    "output_dir_model_set = os.path.join(output_dir, model_set)\n",
    "\n",
    "# Create an output folder for the model set\n",
    "create_dir(output_dir_model_set)\n",
    "logging.info(f\"Created [{output_dir_model_set}] for processing\")\n",
    "\n",
    "# Define the full directory path\n",
    "output_dir_model_set_variable = os.path.join(output_dir_model_set, variable)\n",
    "\n",
    "# Create an output folder for the model variable\n",
    "create_dir(output_dir_model_set_variable)\n",
    "logging.info(f\"Created [{output_dir_model_set_variable}] for processing\")\n",
    "\n",
    "# Execute the workflow by ssp in a for loop\n",
    "for ssp in ssp_list:\n",
    "\n",
    "    ssp_rasters = list_dir_return_list_by_selection(netcdf_dir_list, ssp, model)\n",
    "\n",
    "    # Strip .xmls from the ssp_rasters list\n",
    "    ssp_rasters = list(set([str(item).strip(\".xml\") for item in ssp_rasters]))\n",
    "    total_recs = len(ssp_rasters)\n",
    "    logging.info(f\"There are [{total_recs}] files in SSP[{ssp.strip('_ssp')}]\")\n",
    "    rec_count = 0\n",
    "\n",
    "    start_rec_tm = time.time()\n",
    "    \n",
    "    for netcdf in ssp_rasters:\n",
    "\n",
    "        rec_count += 1\n",
    "        start_rec_tm = time.time()\n",
    "        \n",
    "        # Split the file name by unpderscore and collect the parts for processing\n",
    "        file_name_parts = os.path.basename(netcdf).strip('.nc').split(\"_\")\n",
    "        \n",
    "        # Collect file names parts\n",
    "        model_set, model, variable, ssp, start_year, end_year = file_name_parts\n",
    "        logging.info(f\"[{rec_count}/{total_recs}] Processing {model_set}:{ssp.strip('_ssp')}:{os.path.basename(netcdf)}\")\n",
    "\n",
    "        # if variable has unit 'day', copy to output_dir\n",
    "        if variable in variables_day or variable in variables_degreedays:\n",
    "\n",
    "            input_file = os.path.join(input_dir, model_set, variable, os.path.basename(netcdf))\n",
    "            output_file = os.path.join(output_dir, model_set, variable, os.path.basename(netcdf))\n",
    "\n",
    "            shutil.copy(input_file, output_file)\n",
    "\n",
    "            logging.info(f\"[Copied {netcdf} to {output_dir_model_set_variable}]\")\n",
    "\n",
    "        # if variable has unit Celsius or Kelvin, convert unit to Fahrenheit and save to output_dir\n",
    "        elif variable in variables_temp:\n",
    "\n",
    "            try:\n",
    "\n",
    "                if model_set == 'STAR':\n",
    "\n",
    "                    unit_conversion_temp_star(netcdf_dir_list, variable, os.path.basename(netcdf).strip('.nc'), output_dir_model_set_variable)\n",
    "                    \n",
    "                    end_red_tm = time.time()\n",
    "                    elapsed_rec_tm = end_red_tm - start_rec_tm\n",
    "                    logging.info(f\"[Converted and saved {netcdf} to {os.path.join(output_dir_model_set_variable, os.path.basename(netcdf))} in {elapsed_rec_tm:0,.2f} seconds]\")\n",
    "\n",
    "                if model_set == 'LOCA2':\n",
    "\n",
    "                    unit_conversion_temp_loca2(netcdf_dir_list, variable, os.path.basename(netcdf).strip('.nc'), output_dir_model_set_variable)\n",
    "                    \n",
    "                    end_red_tm = time.time()\n",
    "                    elapsed_rec_tm = end_red_tm - start_rec_tm\n",
    "                    logging.info(f\"[Converted and saved {netcdf} to {os.path.join(output_dir_model_set_variable, os.path.basename(netcdf))} in {elapsed_rec_tm:0,.2f} seconds]\")\n",
    "\n",
    "            except:\n",
    "\n",
    "                logging.info(f\"Failed to process {netcdf}\")\n",
    "\n",
    "        # if variable has unit mm, convert unit to inches and save to output_dir\n",
    "        elif variable in variables_precip:\n",
    "\n",
    "            try:\n",
    "\n",
    "                unit_conversion_precip(netcdf_dir_list, variable, os.path.basename(netcdf).strip('.nc'), output_dir_model_set_variable)\n",
    "                \n",
    "                end_red_tm = time.time()\n",
    "                elapsed_rec_tm = end_red_tm - start_rec_tm\n",
    "                logging.info(f\"[Converted and saved {netcdf} to {os.path.join(output_dir_model_set_variable, os.path.basename(netcdf))} in {elapsed_rec_tm:0,.2f} seconds]\")\n",
    "\n",
    "            except:\n",
    "\n",
    "                logging.info(f\"Failed to process {netcdf}\")\n",
    "\n",
    "logging.info(\"Processing complete.\")\n",
    "end_proc_tm = time.time()\n",
    "\n",
    "elapsed_proc_tm = end_proc_tm - start_proc_tm\n",
    "\n",
    "logging.info(f\"[Overall Elapsed time: {elapsed_proc_tm/60:0,.2f} minutes]\")"
   ]
  }
 ],
 "metadata": {
  "kernelspec": {
   "display_name": "Python 3",
   "language": "python",
   "name": "python3"
  },
  "language_info": {
   "codemirror_mode": {
    "name": "ipython",
    "version": 3
   },
   "file_extension": ".py",
   "mimetype": "text/x-python",
   "name": "python",
   "nbconvert_exporter": "python",
   "pygments_lexer": "ipython3",
   "version": "3.11.10"
  }
 },
 "nbformat": 4,
 "nbformat_minor": 2
}
