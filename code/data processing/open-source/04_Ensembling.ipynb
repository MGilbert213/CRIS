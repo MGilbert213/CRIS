{
 "cells": [
  {
   "cell_type": "markdown",
   "metadata": {},
   "source": [
    "# Calculate multimodel weighted ensemble\n",
    "\n",
    "This is the fourth script in a series of six scripts designed to run sequentially. \\\n",
    "Run this script to combine the individual models for each variable and SSP into a multimodel weighted ensemble."
   ]
  },
  {
   "cell_type": "markdown",
   "metadata": {},
   "source": [
    "# Import libraries"
   ]
  },
  {
   "cell_type": "code",
   "execution_count": 1,
   "metadata": {},
   "outputs": [],
   "source": [
    "import time\n",
    "import os\n",
    "import xarray as xr"
   ]
  },
  {
   "cell_type": "markdown",
   "metadata": {},
   "source": [
    "# Define functions"
   ]
  },
  {
   "cell_type": "code",
   "execution_count": 2,
   "metadata": {},
   "outputs": [],
   "source": [
    "def create_dir(dir):\n",
    "    \"\"\"\n",
    "    Checks if directory exists and if not it will create it\n",
    "    \n",
    "    dir: str\n",
    "        full path the directory\n",
    "    \"\"\"\n",
    "    if not os.path.exists(dir):\n",
    "            os.mkdir(dir)"
   ]
  },
  {
   "cell_type": "markdown",
   "metadata": {},
   "source": [
    "# Set paths and variables"
   ]
  },
  {
   "cell_type": "code",
   "execution_count": null,
   "metadata": {},
   "outputs": [],
   "source": [
    "# Path to your base directory\n",
    "base = r'C:\\<your-base-path>\\CRIS'"
   ]
  },
  {
   "cell_type": "code",
   "execution_count": 4,
   "metadata": {},
   "outputs": [],
   "source": [
    "input_dir = os.path.join(base, 'data', 'resample_mask')\n",
    "output_dir = os.path.join(base, 'data', 'ensemble')\n",
    "\n",
    "create_dir(output_dir)"
   ]
  },
  {
   "cell_type": "code",
   "execution_count": null,
   "metadata": {},
   "outputs": [],
   "source": [
    "# Pick STAR, LOCA2, or LOCA2STAR\n",
    "model_set = 'LOCA2'\n",
    "\n",
    "MODELS_TO_PROCESS = ['ACCESS-CM2',\n",
    "                     'ACCESS-ESM1-5',\n",
    "                     'BCC-CSM2-MR',\n",
    "                     'CanESM5',\n",
    "                     'EC-Earth3',\n",
    "                     'FGOALS-g3',\n",
    "                     'GFDL-ESM4',\n",
    "                     'INM-CM4-8',\n",
    "                     'INM-CM5-0',\n",
    "                     'IPSL-CM6A-LR',\n",
    "                     'MIROC6',\n",
    "                     'MPI-ESM1-2-HR',\n",
    "                     'MPI-ESM1-2-LR',\n",
    "                     'MRI-ESM2-0',\n",
    "                     'NorESM2-LM',\n",
    "                     'NorESM2-MM'\n",
    "                    ]\n",
    "\n",
    "# pick variables\n",
    "VARIABLES_TO_PROCESS = ['tavg']\n",
    "\n",
    "SSPS_STAR_TO_PROCESS = ['ssp245', 'ssp585']\n",
    "SSPS_LOCA2_TO_PROCESS = ['ssp245', 'ssp370', 'ssp585']\n",
    "SSPS_LOCA2STAR_TO_PROCESS = ['ssp245', 'ssp585']\n",
    "\n",
    "ENSEMBLE_WEIGHTS = {\n",
    "                    \"ACCESS-CM2\" : 0.0412,\n",
    "                    \"ACCESS-ESM1-5\" : 0.0581,\n",
    "                    \"BCC-CSM2-MR\" : 0.0723,\n",
    "                    \"CanESM5\" : 0.029,\n",
    "                    \"EC-Earth3\" : 0.0498,\n",
    "                    \"FGOALS-g3\" : 0.0716,\n",
    "                    \"GFDL-ESM4\" : 0.0589,\n",
    "                    \"INM-CM4-8\" : 0.0646,\n",
    "                    \"INM-CM5-0\" : 0.0649,\n",
    "                    \"IPSL-CM6A-LR\" : 0.0449,\n",
    "                    \"MIROC6\" : 0.0767,\n",
    "                    \"MPI-ESM1-2-HR\" : 0.0731,\n",
    "                    \"MPI-ESM1-2-LR\" : 0.0755,\n",
    "                    \"MRI-ESM2-0\" : 0.073,\n",
    "                    \"NorESM2-LM\" : 0.0736,\n",
    "                    \"NorESM2-MM\" : 0.0727\n",
    "                    }"
   ]
  },
  {
   "cell_type": "markdown",
   "metadata": {},
   "source": [
    "# Ensemble"
   ]
  },
  {
   "cell_type": "code",
   "execution_count": null,
   "metadata": {},
   "outputs": [],
   "source": [
    "# for model_set in MODEL_SET_TO_PROCESS:\n",
    "\n",
    "if model_set == 'STAR' or model_set == 'LOCA2':\n",
    "\n",
    "    for variable in VARIABLES_TO_PROCESS:\n",
    "        \n",
    "        if model_set == 'STAR':\n",
    "            SSPS_TO_PROCESS = SSPS_STAR_TO_PROCESS\n",
    "        elif model_set == 'LOCA2':\n",
    "            SSPS_TO_PROCESS = SSPS_LOCA2_TO_PROCESS\n",
    "\n",
    "        for ssp in SSPS_TO_PROCESS:\n",
    "\n",
    "            start_proc_tm = time.time()\n",
    "\n",
    "            ds = xr.open_dataset(os.path.join(input_dir, model_set, variable, model_set + '_' + MODELS_TO_PROCESS[0] + '_' + variable + '_' + ssp + '_1950_2100.nc'))\n",
    "            ds[variable.replace('-','_')].values *= ENSEMBLE_WEIGHTS.get(MODELS_TO_PROCESS[0])\n",
    "\n",
    "            for model in MODELS_TO_PROCESS[1:]:\n",
    "\n",
    "                ds_temp = xr.open_dataset(os.path.join(input_dir, model_set, variable, model_set + '_' + model + '_' + variable + '_' + ssp + '_1950_2100.nc'))\n",
    "                ds_temp[variable.replace('-','_')].values *= ENSEMBLE_WEIGHTS.get(model)\n",
    "                ds[variable.replace('-','_')].values += ds_temp[variable.replace('-','_')].values\n",
    "\n",
    "            out_file = os.path.join(output_dir, model_set, model_set + '_' + variable + '_' + ssp + '_1950_2100.nc')\n",
    "\n",
    "            create_dir(os.path.join(output_dir, model_set))\n",
    "            \n",
    "            ds.to_netcdf(out_file, encoding={variable.replace('-','_'): {'zlib': True, 'complevel': 9}})\n",
    "            \n",
    "            end_proc_tm = time.time()\n",
    "            elapsed_proc_tm = end_proc_tm - start_proc_tm\n",
    "            print(f'Successfully processed: {out_file}')\n",
    "            print(f\"[Processed time: {elapsed_proc_tm/60:0,.2f} minutes]\")\n",
    "\n",
    "elif model_set == 'LOCA2STAR':\n",
    "\n",
    "    for variable in VARIABLES_TO_PROCESS:\n",
    "    \n",
    "        for ssp in SSPS_LOCA2STAR_TO_PROCESS:\n",
    "\n",
    "            start_proc_tm = time.time()\n",
    "\n",
    "            ds_star = xr.open_dataset(os.path.join(input_dir, 'STAR', variable, 'STAR_' + MODELS_TO_PROCESS[0] + '_' + variable + '_' + ssp + '_1950_2100.nc'))\n",
    "            ds_star[variable.replace('-','_')].values *= ENSEMBLE_WEIGHTS.get(MODELS_TO_PROCESS[0])\n",
    "\n",
    "            ds_loca2 = xr.open_dataset(os.path.join(input_dir, 'LOCA2', variable, 'LOCA2_' + MODELS_TO_PROCESS[0] + '_' + variable + '_' + ssp + '_1950_2100.nc'))\n",
    "            ds_loca2[variable.replace('-','_')].values *= ENSEMBLE_WEIGHTS.get(MODELS_TO_PROCESS[0])\n",
    "\n",
    "            for model in MODELS_TO_PROCESS[1:]:\n",
    "\n",
    "                ds_star_temp = xr.open_dataset(os.path.join(input_dir, 'STAR', variable, 'STAR_' + model + '_' + variable + '_' + ssp + '_1950_2100.nc'))\n",
    "                ds_star_temp[variable.replace('-','_')].values *= ENSEMBLE_WEIGHTS.get(model)\n",
    "                ds_star[variable.replace('-','_')].values += ds_star_temp[variable.replace('-','_')].values\n",
    "\n",
    "                ds_loca2_temp = xr.open_dataset(os.path.join(input_dir, 'LOCA2', variable, 'LOCA2_' + model + '_' + variable + '_' + ssp + '_1950_2100.nc'))\n",
    "                ds_loca2_temp[variable.replace('-','_')].values *= ENSEMBLE_WEIGHTS.get(model)\n",
    "                ds_loca2[variable.replace('-','_')].values += ds_loca2_temp[variable.replace('-','_')].values\n",
    "\n",
    "            out_file = os.path.join(output_dir, model_set, model_set + '_' + variable + '_' + ssp + '_1950_2100.nc')\n",
    "\n",
    "            create_dir(os.path.join(output_dir, model_set))\n",
    "            \n",
    "            ds_star[variable.replace('-','_')].values += ds_loca2[variable.replace('-','_')].values\n",
    "            ds_ensemble = ds_star\n",
    "            ds_ensemble[variable.replace('-','_')].values /= 2\n",
    "            \n",
    "            ds_ensemble.to_netcdf(out_file, encoding={variable.replace('-','_'): {'zlib': True, 'complevel': 9}})\n",
    "            \n",
    "            end_proc_tm = time.time()\n",
    "            elapsed_proc_tm = end_proc_tm - start_proc_tm\n",
    "            print(f'Successfully processed: {out_file}')\n",
    "            print(f\"[Processed time: {elapsed_proc_tm/60:0,.2f} minutes]\")"
   ]
  }
 ],
 "metadata": {
  "kernelspec": {
   "display_name": "Python 3",
   "language": "python",
   "name": "python3"
  },
  "language_info": {
   "codemirror_mode": {
    "name": "ipython",
    "version": 3
   },
   "file_extension": ".py",
   "mimetype": "text/x-python",
   "name": "python",
   "nbconvert_exporter": "python",
   "pygments_lexer": "ipython3",
   "version": "3.11.10"
  }
 },
 "nbformat": 4,
 "nbformat_minor": 2
}
